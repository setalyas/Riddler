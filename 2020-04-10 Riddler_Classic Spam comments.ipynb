{
 "cells": [
  {
   "cell_type": "markdown",
   "metadata": {},
   "source": [
    "# Spam comments\n",
    "\n",
    "### Riddler Classic 10/04/2020\n",
    "\n",
    "> Over the course of three days, suppose the probability of any spammer making a new comment on this week’s Riddler column over a very short time interval is proportional to the length of that time interval. (For those in the know, I’m saying that spammers follow a Poisson process.) On average, the column gets one brand-new comment of spam per day that is not a reply to any previous comments. Each spam comment or reply also gets its own spam reply at an average rate of one per day.\n",
    "> \n",
    "> For example, after three days, I might have four comments that were not replies to any previous comments, and each of them might have a few replies (and their replies might have replies, which might have further replies, etc.).\n",
    "> \n",
    "> After the three days are up, how many total spam posts (comments plus replies) can I expect to have?"
   ]
  },
  {
   "cell_type": "code",
   "execution_count": 13,
   "metadata": {},
   "outputs": [],
   "source": [
    "import math\n",
    "import matplotlib.pyplot as plt; plt.style.use('ggplot')\n",
    "\n",
    "check_range = 10"
   ]
  },
  {
   "cell_type": "markdown",
   "metadata": {},
   "source": [
    "The formula for Poisson processes:\n",
    "\n",
    "$$P(k{\\text{ events in interval}}) = {\\frac {\\lambda ^{k}e^{-\\lambda }}{k!}}$$\n",
    "\n",
    "Start by looking at the resolution of one day at a time. Probability of k spam comments per day?"
   ]
  },
  {
   "cell_type": "code",
   "execution_count": 11,
   "metadata": {},
   "outputs": [
    {
     "name": "stdout",
     "output_type": "stream",
     "text": [
      "0 spam comments per day: 0.36787944117144233\n",
      "1 spam comments per day: 0.36787944117144233\n",
      "2 spam comments per day: 0.18393972058572117\n",
      "3 spam comments per day: 0.061313240195240384\n",
      "4 spam comments per day: 0.015328310048810096\n",
      "5 spam comments per day: 0.0030656620097620196\n",
      "6 spam comments per day: 0.0005109436682936699\n",
      "7 spam comments per day: 7.299195261338141e-05\n",
      "8 spam comments per day: 9.123994076672677e-06\n",
      "9 spam comments per day: 1.0137771196302974e-06\n"
     ]
    },
    {
     "data": {
      "text/plain": [
       "Text(0, 0.5, 'Probability')"
      ]
     },
     "execution_count": 11,
     "metadata": {},
     "output_type": "execute_result"
    },
    {
     "data": {
      "image/png": "[encoded data removed]",
      "text/plain": [
       "<Figure size 432x288 with 1 Axes>"
      ]
     },
     "metadata": {
      "needs_background": "light"
     },
     "output_type": "display_data"
    }
   ],
   "source": [
    "daily_comments = lambda k: 1 / (math.factorial(k) * math.e)\n",
    "\n",
    "comment_prob = []\n",
    "\n",
    "for k in range(check_range):\n",
    "    print('{} spam comments per day: {}'.format(k, daily_comments(k)))\n",
    "    comment_prob.append(daily_comments(k))\n",
    "\n",
    "plt.plot(comment_prob)\n",
    "plt.xlabel('Spam comments in day 1')\n",
    "plt.ylabel('Probability')"
   ]
  },
  {
   "cell_type": "markdown",
   "metadata": {},
   "source": [
    "Probability of k replies to those spam comments the next day?"
   ]
  },
  {
   "cell_type": "code",
   "execution_count": 39,
   "metadata": {},
   "outputs": [],
   "source": [
    "daily_replies = lambda k, r: (k ** r) * (math.e ** (-k)) / (math.factorial(r))\n",
    "\n",
    "replies_for_comments = {}\n",
    "for r in range(check_range):\n",
    "    replies_for_comments[r] = []"
   ]
  },
  {
   "cell_type": "code",
   "execution_count": 40,
   "metadata": {},
   "outputs": [
    {
     "name": "stdout",
     "output_type": "stream",
     "text": [
      "0 prev comments, 0 replies: 0.36787944117144233\n",
      "1 prev comments, 0 replies: 0.25464638004358253\n",
      "1 prev comments, 1 replies: 0.09367916798676387\n",
      "1 prev comments, 2 replies: 0.01723131998418818\n",
      "1 prev comments, 3 replies: 0.0021130161221431516\n",
      "1 prev comments, 4 replies: 0.0001943337975500677\n",
      "1 prev comments, 5 replies: 1.429828176868862e-05\n",
      "1 prev comments, 6 replies: 8.76673984462832e-07\n",
      "1 prev comments, 7 replies: 4.607290507053262e-08\n",
      "1 prev comments, 8 replies: 2.1186593213115566e-09\n",
      "1 prev comments, 9 replies: 8.660124523964029e-11\n",
      "2 prev comments, 0 replies: 0.1530352638991777\n",
      "2 prev comments, 1 replies: 0.028149263681376848\n",
      "2 prev comments, 2 replies: 0.0025888838481231235\n",
      "2 prev comments, 3 replies: 0.0001587328572175513\n",
      "2 prev comments, 4 replies: 7.2993193510923886e-06\n",
      "2 prev comments, 5 replies: 2.685269523811763e-07\n",
      "2 prev comments, 6 replies: 8.232128765121471e-09\n",
      "2 prev comments, 7 replies: 2.1631649498316021e-10\n",
      "2 prev comments, 8 replies: 4.9736494556606296e-12\n",
      "2 prev comments, 9 replies: 1.0165018790728228e-13\n",
      "3 prev comments, 0 replies: 0.05766685487535607\n",
      "3 prev comments, 1 replies: 0.0035357417242767755\n",
      "3 prev comments, 2 replies: 0.00010839389080445768\n",
      "3 prev comments, 3 replies: 2.2153268875301236e-06\n",
      "3 prev comments, 4 replies: 3.395721739152719e-08\n",
      "3 prev comments, 5 replies: 4.164054052577402e-10\n",
      "3 prev comments, 6 replies: 4.25519410519404e-12\n",
      "3 prev comments, 7 replies: 3.7271391178447585e-14\n",
      "3 prev comments, 8 replies: 2.856537199668651e-16\n",
      "3 prev comments, 9 replies: 1.9460394605547036e-18\n",
      "4 prev comments, 0 replies: 0.015095144541756237\n",
      "4 prev comments, 1 replies: 0.000231383055767643\n",
      "4 prev comments, 2 replies: 1.7733556094237744e-06\n",
      "4 prev comments, 3 replies: 9.060848202681397e-09\n",
      "4 prev comments, 4 replies: 3.4721872638976045e-11\n",
      "4 prev comments, 5 replies: 1.0644552585710417e-13\n",
      "4 prev comments, 6 replies: 2.7193833727438745e-16\n",
      "4 prev comments, 7 replies: 5.954793068428145e-19\n",
      "4 prev comments, 8 replies: 1.1409614303671482e-21\n",
      "4 prev comments, 9 replies: 1.9432233953779442e-24\n",
      "5 prev comments, 0 replies: 0.003056278117474339\n",
      "5 prev comments, 1 replies: 9.369515716008063e-06\n",
      "5 prev comments, 2 replies: 1.4361884190217052e-08\n",
      "5 prev comments, 3 replies: 1.4676227583516728e-11\n",
      "5 prev comments, 4 replies: 1.124808833735217e-14\n",
      "5 prev comments, 5 replies: 6.896567419653558e-18\n",
      "5 prev comments, 6 replies: 3.5237574560323986e-21\n",
      "5 prev comments, 7 replies: 1.5432356235105975e-24\n",
      "5 prev comments, 8 replies: 5.913798528884803e-28\n",
      "5 prev comments, 9 replies: 2.0144119425987402e-31\n",
      "6 prev comments, 0 replies: 0.0005106826715444968\n",
      "6 prev comments, 1 replies: 2.6093007753295653e-07\n",
      "6 prev comments, 2 replies: 6.666028549142026e-11\n",
      "6 prev comments, 3 replies: 1.1353216932829856e-14\n",
      "6 prev comments, 4 replies: 1.4502135766484734e-18\n",
      "6 prev comments, 5 replies: 1.4819548893241085e-22\n",
      "6 prev comments, 6 replies: 1.2619924456616658e-26\n",
      "6 prev comments, 7 replies: 9.211529279218165e-31\n",
      "6 prev comments, 8 replies: 5.883215700647841e-35\n",
      "6 prev comments, 9 replies: 3.3399909016132465e-39\n",
      "7 prev comments, 0 replies: 7.298662498267455e-05\n",
      "7 prev comments, 1 replies: 5.327436272146021e-09\n",
      "7 prev comments, 2 replies: 1.9442998796364582e-13\n",
      "7 prev comments, 3 replies: 4.730608156020919e-18\n",
      "7 prev comments, 4 replies: 8.632408158918864e-23\n",
      "7 prev comments, 5 replies: 1.2601926545503452e-27\n",
      "7 prev comments, 6 replies: 1.533065375411169e-32\n",
      "7 prev comments, 7 replies: 1.5985919319318263e-37\n",
      "7 prev comments, 8 replies: 1.458554331796271e-42\n",
      "7 prev comments, 9 replies: 1.1829192074501737e-47\n",
      "8 prev comments, 0 replies: 9.123910829784539e-06\n",
      "8 prev comments, 1 replies: 8.324650836704382e-11\n",
      "8 prev comments, 2 replies: 3.797703246222951e-16\n",
      "8 prev comments, 3 replies: 1.1550073974499601e-21\n",
      "8 prev comments, 4 replies: 2.63457016321164e-27\n",
      "8 prev comments, 5 replies: 4.807560512744314e-33\n",
      "8 prev comments, 6 replies: 7.310692273587428e-39\n",
      "8 prev comments, 7 replies: 9.528959000084057e-45\n",
      "8 prev comments, 8 replies: 1.0867770684202965e-50\n",
      "8 prev comments, 9 replies: 1.1017497261033869e-56\n",
      "9 prev comments, 0 replies: 1.01377609188677e-06\n",
      "9 prev comments, 1 replies: 1.0277430063830294e-12\n",
      "9 prev comments, 2 replies: 5.209511723655849e-19\n",
      "9 prev comments, 3 replies: 1.760427929962698e-25\n",
      "9 prev comments, 4 replies: 4.4617038903857756e-32\n",
      "9 prev comments, 5 replies: 9.046346637277168e-39\n",
      "9 prev comments, 6 replies: 1.5284965395193458e-45\n",
      "9 prev comments, 7 replies: 2.2136497417125705e-52\n",
      "9 prev comments, 8 replies: 2.805184323779652e-59\n",
      "9 prev comments, 9 replies: 3.1598129819926657e-66\n"
     ]
    }
   ],
   "source": [
    "for k in range(check_range):\n",
    "    if k == 0:\n",
    "        prob = daily_comments(k)\n",
    "        print('0 prev comments, 0 replies: {}'.format(prob))\n",
    "        replies_for_comments[k].append(prob)\n",
    "    else:\n",
    "        for r in range(check_range):\n",
    "            day1comments = daily_comments(k)\n",
    "            day2replies = daily_replies(day1comments, r)\n",
    "            prob = day2replies * day1comments\n",
    "            print('{} prev comments, {} replies: {}'.format(k, r, prob))\n",
    "            replies_for_comments[k].append(prob)"
   ]
  },
  {
   "cell_type": "code",
   "execution_count": 53,
   "metadata": {},
   "outputs": [
    {
     "name": "stdout",
     "output_type": "stream",
     "text": [
      "Total probability of all enumerated options: 0.99999989\n"
     ]
    },
    {
     "data": {
      "text/plain": [
       "[<matplotlib.lines.Line2D at 0x2da13684940>]"
      ]
     },
     "execution_count": 53,
     "metadata": {},
     "output_type": "execute_result"
    },
    {
     "data": {
      "image/png": "[encoded data removed]",
      "text/plain": [
       "<Figure size 432x288 with 1 Axes>"
      ]
     },
     "metadata": {},
     "output_type": "display_data"
    }
   ],
   "source": [
    "total_prob = sum([sum(replies_for_comments[k]) for k in replies_for_comments.keys()])\n",
    "print('Total probability of all enumerated options: {0:.8f}'.format(total_prob))\n",
    "\n",
    "plt.plot([sum(replies_for_comments[k]) for k in replies_for_comments.keys()])"
   ]
  },
  {
   "cell_type": "markdown",
   "metadata": {},
   "source": [
    "# This is exactly the same as the previous graph??\n",
    "\n",
    "Follow this day resolution thread to the end:\n",
    "\n",
    "- Have a day 3, making sure replies can be nested => have a total 'replyable comments' count as k\n",
    "- Get the expected value\n",
    "- Plot the distribution -- how? Could do # comments / # replies heatmap?\n",
    "\n",
    "Then increase the resolution. Note ${\\displaystyle P(k{\\text{ events in interval }}t)={\\frac {(rt)^{k}e^{-rt}}{k!}}}$"
   ]
  },
  {
   "cell_type": "code",
   "execution_count": 55,
   "metadata": {},
   "outputs": [],
   "source": [
    "# replies_for_comments"
   ]
  }
 ],
 "metadata": {
  "kernelspec": {
   "display_name": "Python 3",
   "language": "python",
   "name": "python3"
  },
  "language_info": {
   "codemirror_mode": {
    "name": "ipython",
    "version": 3
   },
   "file_extension": ".py",
   "mimetype": "text/x-python",
   "name": "python",
   "nbconvert_exporter": "python",
   "pygments_lexer": "ipython3",
   "version": "3.7.1"
  }
 },
 "nbformat": 4,
 "nbformat_minor": 2
}
