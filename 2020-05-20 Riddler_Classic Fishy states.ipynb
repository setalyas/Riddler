{
 "cells": [
  {
   "cell_type": "markdown",
   "metadata": {},
   "source": [
    "Ohio is the only state whose name doesn’t share any letters with the word “mackerel.” It’s strange, but it’s true.\n",
    "\n",
    "But that isn’t the only pairing of a state and a word you can say that about — it’s not even the only fish! Kentucky has “goldfish” to itself, Montana has “jellyfish” and Delaware has “monkfish,” just to name a few.\n",
    "\n",
    "What is the longest “mackerel?” That is, what is the longest word that doesn’t share any letters with exactly one state? (If multiple “mackerels” are tied for being the longest, can you find them all?)\n",
    "\n",
    "Extra credit: Which state has the most “mackerels?” That is, which state has the most words for which it is the only state without any letters in common with those words?\n",
    "\n",
    "(For both the Riddler and the extra credit, please refer to Friend of the Riddler™ Peter Norvig’s [word list](https://norvig.com/ngrams/word.list).)"
   ]
  },
  {
   "cell_type": "code",
   "execution_count": 18,
   "metadata": {},
   "outputs": [],
   "source": [
    "import pandas as pd\n",
    "import json\n",
    "import matplotlib.pyplot as plt; plt.style.use('ggplot')\n",
    "import matplotlib.ticker as mtick\n",
    "\n",
    "thou_fmt = mtick.FuncFormatter(lambda x, p: format(int(x), ','))\n",
    "%matplotlib inline"
   ]
  },
  {
   "cell_type": "markdown",
   "metadata": {},
   "source": [
    "## 1. Import the lists of words and states"
   ]
  },
  {
   "cell_type": "code",
   "execution_count": 4,
   "metadata": {},
   "outputs": [
    {
     "name": "stdout",
     "output_type": "stream",
     "text": [
      "List of 263533 words, e.g.\n",
      "aa\n",
      "aah\n",
      "aahed\n",
      "aahing\n",
      "aahs\n"
     ]
    }
   ],
   "source": [
    "with open('general_data/word.list', 'r') as fh:\n",
    "    word_list = [line.replace('\\n', '') for line in fh]\n",
    "print(\"List of {} words, e.g.\".format(len(word_list)))\n",
    "for i in word_list[:5]:\n",
    "    print(i)"
   ]
  },
  {
   "cell_type": "code",
   "execution_count": 5,
   "metadata": {},
   "outputs": [],
   "source": [
    "with open('general_data/US_states.txt', 'r') as fh:\n",
    "    state_list = [line.replace('\\n', '').lower() for line in fh]"
   ]
  },
  {
   "cell_type": "markdown",
   "metadata": {},
   "source": [
    "## 1a. See how weird the long words are\n",
    "\n",
    "They're basically all science words, except el clasico \"antidisestablishmentarianism\"."
   ]
  },
  {
   "cell_type": "code",
   "execution_count": 6,
   "metadata": {},
   "outputs": [
    {
     "name": "stdout",
     "output_type": "stream",
     "text": [
      "['pneumonoultramicroscopicsilicovolcanoconiosis']\n",
      "[]\n",
      "[]\n",
      "[]\n",
      "[]\n",
      "[]\n",
      "[]\n",
      "[]\n",
      "[]\n",
      "[]\n",
      "[]\n",
      "[]\n",
      "[]\n",
      "['dichlorodiphenyltrichloroethanes']\n",
      "['dichlorodiphenyltrichloroethane']\n",
      "['floccinaucinihilipilifications']\n",
      "['antidisestablishmentarianisms', 'floccinaucinihilipilification']\n",
      "['antidisestablishmentarianism', 'ethylenediaminetetraacetates']\n",
      "['electroencephalographically', 'ethylenediaminetetraacetate']\n",
      "[]\n"
     ]
    }
   ],
   "source": [
    "max_len = max([len(i) for i in word_list])\n",
    "for i in range(max_len, max_len-20, -1):\n",
    "    print([word for word in word_list if len(word)==i])"
   ]
  },
  {
   "cell_type": "markdown",
   "metadata": {},
   "source": [
    "## 2. Trial an approach to match the provided mackerels\n",
    "\n",
    "First, a function to turn a word into a set of letters."
   ]
  },
  {
   "cell_type": "code",
   "execution_count": 7,
   "metadata": {},
   "outputs": [
    {
     "data": {
      "text/plain": [
       "{'a', 'c', 'e', 'k', 'l', 'm', 'r'}"
      ]
     },
     "execution_count": 7,
     "metadata": {},
     "output_type": "execute_result"
    }
   ],
   "source": [
    "test_words = ['mackerel', \"goldfish\", \"jellyfish\", \"monkfish\"]\n",
    "str2set = lambda string: set([string[i] for i in range(len(string))])\n",
    "str2set(test_words[0])"
   ]
  },
  {
   "cell_type": "markdown",
   "metadata": {},
   "source": [
    "Next, compare that set of letters to the set of letters of each state."
   ]
  },
  {
   "cell_type": "code",
   "execution_count": 8,
   "metadata": {},
   "outputs": [
    {
     "name": "stdout",
     "output_type": "stream",
     "text": [
      "['ohio']\n",
      "['kentucky']\n",
      "['montana']\n",
      "['delaware']\n"
     ]
    }
   ],
   "source": [
    "for test_word in test_words:\n",
    "    print([state for state in state_list if str2set(state).isdisjoint(str2set(test_word))])"
   ]
  },
  {
   "cell_type": "markdown",
   "metadata": {},
   "source": [
    "Enfunction it."
   ]
  },
  {
   "cell_type": "code",
   "execution_count": 9,
   "metadata": {},
   "outputs": [
    {
     "name": "stdout",
     "output_type": "stream",
     "text": [
      "[['ohio'], ['kentucky'], ['montana'], ['delaware']]\n",
      "True False\n"
     ]
    }
   ],
   "source": [
    "def unmatching_states(string, states=state_list):\n",
    "    \"\"\"Checks a string against each of the 50 US states, and returns those with no overlapping letters.\"\"\"\n",
    "    return [state for state in states if str2set(state).isdisjoint(str2set(string))]\n",
    "disjoint_states = lambda string: len(unmatching_states(string)) == 1\n",
    "print([unmatching_states(i) for i in test_words])\n",
    "print(disjoint_states('jellyfish'), disjoint_states('trial'))"
   ]
  },
  {
   "cell_type": "code",
   "execution_count": 10,
   "metadata": {},
   "outputs": [
    {
     "data": {
      "text/plain": [
       "['pneumonoultramicroscopicsilicovolcanoconiosis',\n",
       " 'dichlorodiphenyltrichloroethanes',\n",
       " 'dichlorodiphenyltrichloroethane',\n",
       " 'floccinaucinihilipilifications',\n",
       " 'antidisestablishmentarianisms',\n",
       " 'floccinaucinihilipilification',\n",
       " 'antidisestablishmentarianism',\n",
       " 'ethylenediaminetetraacetates',\n",
       " 'electroencephalographically',\n",
       " 'ethylenediaminetetraacetate']"
      ]
     },
     "execution_count": 10,
     "metadata": {},
     "output_type": "execute_result"
    }
   ],
   "source": [
    "word_list.sort(key=len, reverse=True)\n",
    "word_list[:10]"
   ]
  },
  {
   "cell_type": "markdown",
   "metadata": {},
   "source": [
    "Trial it on a subset of the word list that we know includes mackerels -- the eight letter words."
   ]
  },
  {
   "cell_type": "code",
   "execution_count": 12,
   "metadata": {},
   "outputs": [
    {
     "name": "stdout",
     "output_type": "stream",
     "text": [
      "['aardvark', 'aardwolf', 'aasvogel', 'abactors', 'abacuses', 'abalones', 'abampere', 'abanding', 'abandons', 'abapical'] \n",
      " 39226\n"
     ]
    }
   ],
   "source": [
    "eight_words = [word for word in word_list if len(word)==8]\n",
    "print(eight_words[:10], '\\n', len(eight_words))"
   ]
  },
  {
   "cell_type": "code",
   "execution_count": 15,
   "metadata": {},
   "outputs": [
    {
     "data": {
      "text/plain": [
       "['ashtrays',\n",
       " 'bulghars',\n",
       " 'draughts',\n",
       " 'fraughts',\n",
       " 'lathyrus',\n",
       " 'straught',\n",
       " 'subgraph']"
      ]
     },
     "execution_count": 15,
     "metadata": {},
     "output_type": "execute_result"
    }
   ],
   "source": [
    "state_mackerels_eight = {state: {'words': []} for state in state_list}\n",
    "for word in eight_words:\n",
    "    _ = unmatching_states(word)\n",
    "    if len(_)==1:\n",
    "        matching_state = _[0]\n",
    "        state_mackerels_eight[matching_state]['words'].append(word)\n",
    "state_mackerels_eight['new mexico']['words']"
   ]
  },
  {
   "cell_type": "markdown",
   "metadata": {},
   "source": [
    "## 3. Get all the mackerels from the word list"
   ]
  },
  {
   "cell_type": "code",
   "execution_count": 16,
   "metadata": {},
   "outputs": [],
   "source": [
    "state_mackerels = {state: {'words': []} for state in state_list}\n",
    "for word in word_list:\n",
    "    _ = unmatching_states(word)\n",
    "    if len(_)==1:\n",
    "        matching_state = _[0]\n",
    "        state_mackerels[matching_state]['words'].append(word)"
   ]
  },
  {
   "cell_type": "code",
   "execution_count": 17,
   "metadata": {},
   "outputs": [
    {
     "name": "stdout",
     "output_type": "stream",
     "text": [
      "alabama ['counterproductivenesses', 'counterproductiveness', 'unconscientiousnesses', 'counterconditionings', 'deoxycorticosterones']\n",
      "alaska ['microreproduction', 'immunocompetence', 'immunodeficiency', 'microenvironment', 'oophorectomizing']\n",
      "arizona []\n",
      "arkansas []\n",
      "california []\n",
      "colorado ['intempestivities', 'submissivenesses', 'extinguishments', 'extinguishment', 'imminentnesses']\n",
      "connecticut ['hamadryads', 'hallmarks', 'hamadryas', 'hashmarks', 'sawsharks']\n",
      "delaware ['photocompositions', 'monophthongising', 'photocomposition', 'nonconsumptions', 'misfunctioning']\n",
      "florida []\n",
      "georgia []\n",
      "hawaii ['overscrupulousnesses', 'contemptuousnesses', 'counterdeployments', 'countergovernments', 'obstreperousnesses']\n",
      "idaho []\n",
      "illinois ['charterparty', 'hypercharged', 'jackhammered', 'tachygrapher', 'chamaephyte']\n",
      "indiana ['spectrophotometers', 'heterochromosomes', 'spectrophotometer', 'spectrophotometry', 'heterochromosome']\n",
      "iowa ['speechlessnesses', 'uncheerfulnesses', 'untruthfulnesses', 'cheerlessnesses', 'speechfulnesses']\n",
      "kansas ['microelectrophoretic', 'irreproducibility', 'thermoelectricity', 'electrophilicity', 'ferroelectricity']\n",
      "kentucky ['ambassadorships', 'probabiliorisms', 'ambassadorship', 'isodimorphisms', 'primordialisms']\n",
      "louisiana []\n",
      "maine ['hydrophobous', 'hydropolyps', 'brushwoods', 'dropcloths', 'hydropults']\n",
      "maryland ['objectivistic', 'objectivities', 'bioethicists', 'objectivises', 'objectivists']\n",
      "massachusetts []\n",
      "michigan ['woodburytypes', 'overwrestled', 'outwrestled', 'bestrowed']\n",
      "minnesota []\n",
      "mississippi ['hydrochlorofluorocarbon', 'tetrachloroethylene', 'chlorofluorocarbon', 'tetrachlorethylene', 'electrotechnology']\n",
      "missouri ['happenchance', 'telencephala', 'analphabete', 'anencephaly', 'epencephala']\n",
      "montana ['sesquisulphides', 'checkerberries', 'desulphurisers', 'desulphurizers', 'prepsychedelic']\n",
      "nebraska []\n",
      "nevada ['psychophysiologists', 'psychophysiologist', 'poluphloisboiotic', 'psychophysiologic', 'cryptozoologists']\n",
      "new hampshire []\n",
      "new jersey ['ophthalmological', 'ophthalmophobia', 'photobiological', 'climatological', 'ophthalmologic']\n",
      "new mexico ['subparagraphs', 'splashguards', 'subparagraph', 'satyagrahas', 'splashguard']\n",
      "new york ['tsutsugamushis', 'stalagmitical', 'tsutsugamushi', 'astigmatisms', 'pugilistical']\n",
      "north carolina []\n",
      "north dakota ['millefeuilles', 'exclusivisms', 'psellismuses', 'submissively', 'exclusivism']\n",
      "ohio ['transcendentalnesses', 'untranslatablenesses', 'preternaturalnesses', 'unpersuadablenesses', 'unpreventablenesses']\n",
      "oklahoma ['intersubjectivities', 'distributivenesses', 'bittersweetnesses', 'intersubjectivity', 'distributiveness']\n",
      "oregon ['capitalistically', 'substitutability', 'whatchamacallits', 'cataclysmically', 'catallactically']\n",
      "pennsylvania []\n",
      "rhode island []\n",
      "south carolina []\n",
      "south dakota []\n",
      "tennessee ['biobibliographical', 'micromorphological', 'bibliographically', 'microbiologically', 'microradiographic']\n",
      "texas ['bloodcurdlingly', 'infundibuliform', 'chronobiologic', 'chronologizing', 'immunoglobulin']\n",
      "utah ['expressionlessnesses', 'incompressiblenesses', 'indiscerniblenesses', 'inexpressiblenesses', 'irrepressiblenesses']\n",
      "vermont ['subglacially', 'gallabiyahs', 'dysphagias', 'gallabiyas', 'piggybacks']\n",
      "virginia ['hobbledehoyhoods', 'hobbledehoydoms', 'photocomposed', 'shuttlecocked', 'closemouthed']\n",
      "washington []\n",
      "west virginia []\n",
      "wisconsin ['tetramethyllead', 'muddleheadedly', 'pamphleteered', 'dephlegmated', 'hypermutable']\n",
      "wyoming ['kaffeeklatsches', 'backscratchers', 'eleutherarches', 'kaffeeklatches', 'schutzstaffels']\n"
     ]
    }
   ],
   "source": [
    "for state in state_mackerels.keys():\n",
    "    print(state, state_mackerels[state]['words'][:5])"
   ]
  },
  {
   "cell_type": "code",
   "execution_count": 19,
   "metadata": {},
   "outputs": [],
   "source": [
    "with open('2020-05-20_state-mackerels.json', 'w') as fp:\n",
    "    json.dump(state_mackerels, fp)"
   ]
  },
  {
   "cell_type": "markdown",
   "metadata": {},
   "source": [
    "## 4. Visualise"
   ]
  },
  {
   "cell_type": "code",
   "execution_count": 24,
   "metadata": {},
   "outputs": [
    {
     "data": {
      "text/html": [
       "<div>\n",
       "<style scoped>\n",
       "    .dataframe tbody tr th:only-of-type {\n",
       "        vertical-align: middle;\n",
       "    }\n",
       "\n",
       "    .dataframe tbody tr th {\n",
       "        vertical-align: top;\n",
       "    }\n",
       "\n",
       "    .dataframe thead th {\n",
       "        text-align: right;\n",
       "    }\n",
       "</style>\n",
       "<table border=\"1\" class=\"dataframe\">\n",
       "  <thead>\n",
       "    <tr style=\"text-align: right;\">\n",
       "      <th></th>\n",
       "      <th>count</th>\n",
       "      <th>len_norm</th>\n",
       "      <th>letter_norm</th>\n",
       "    </tr>\n",
       "  </thead>\n",
       "  <tbody>\n",
       "    <tr>\n",
       "      <th>hawaii</th>\n",
       "      <td>1763</td>\n",
       "      <td>755.571429</td>\n",
       "      <td>587.666667</td>\n",
       "    </tr>\n",
       "    <tr>\n",
       "      <th>mississippi</th>\n",
       "      <td>4863</td>\n",
       "      <td>3820.928571</td>\n",
       "      <td>1621.000000</td>\n",
       "    </tr>\n",
       "    <tr>\n",
       "      <th>utah</th>\n",
       "      <td>6619</td>\n",
       "      <td>1891.142857</td>\n",
       "      <td>2206.333333</td>\n",
       "    </tr>\n",
       "    <tr>\n",
       "      <th>alabama</th>\n",
       "      <td>8274</td>\n",
       "      <td>4137.000000</td>\n",
       "      <td>2758.000000</td>\n",
       "    </tr>\n",
       "    <tr>\n",
       "      <th>ohio</th>\n",
       "      <td>11342</td>\n",
       "      <td>3240.571429</td>\n",
       "      <td>2835.500000</td>\n",
       "    </tr>\n",
       "  </tbody>\n",
       "</table>\n",
       "</div>"
      ],
      "text/plain": [
       "             count     len_norm  letter_norm\n",
       "hawaii        1763   755.571429   587.666667\n",
       "mississippi   4863  3820.928571  1621.000000\n",
       "utah          6619  1891.142857  2206.333333\n",
       "alabama       8274  4137.000000  2758.000000\n",
       "ohio         11342  3240.571429  2835.500000"
      ]
     },
     "execution_count": 24,
     "metadata": {},
     "output_type": "execute_result"
    }
   ],
   "source": [
    "def get_mackerel_counts(reference_list, reference_dict):\n",
    "    # Make a df of the counts\n",
    "    mackerel_counts = pd.DataFrame(index=reference_list, columns=['count'])\n",
    "    for unit in reference_list:\n",
    "        reference_dict[unit]['len'] = len(reference_dict[unit]['words'])\n",
    "        mackerel_counts.loc[unit, 'count'] = reference_dict[unit]['len']\n",
    "    mackerel_counts.sort_values(by='count', inplace=True)\n",
    "    # Add in normed measures\n",
    "    max_len = max([len(unit) for unit in reference_list])\n",
    "    max_let = max([len(str2set(unit)) for unit in reference_list])\n",
    "    for unit in mackerel_counts.index:\n",
    "        mackerel_counts.loc[unit, 'len_norm'] = mackerel_counts.loc[unit, 'count'] * len(unit) / max_len\n",
    "        mackerel_counts.loc[unit, 'letter_norm'] = mackerel_counts.loc[unit, 'count'] * len(str2set(unit)) / max_let\n",
    "    return mackerel_counts\n",
    "\n",
    "state_mackerel_counts = get_mackerel_counts(state_list, state_mackerels)\n",
    "state_mackerel_counts.tail()"
   ]
  },
  {
   "cell_type": "code",
   "execution_count": 27,
   "metadata": {},
   "outputs": [
    {
     "data": {
      "image/png": "[encoded data removed]",
      "text/plain": [
       "<Figure size 1080x1080 with 3 Axes>"
      ]
     },
     "metadata": {
      "needs_background": "light"
     },
     "output_type": "display_data"
    }
   ],
   "source": [
    "def plot_mackerel_counts(reference_df, unit_string):\n",
    "    # Plot\n",
    "    mackerel_counts_nonzero = reference_df[reference_df['count'] > 0]\n",
    "    fig, axs = plt.subplots(1, 3, figsize=(15, 15), sharey=True)\n",
    "    cols = ['count', 'len_norm', 'letter_norm']\n",
    "    titles = ['by mackerels', 'normed by {} length'.format(unit_string), 'normed by {} letters'.format(unit_string)]\n",
    "    for (ax, col, title) in zip(axs, cols, titles):\n",
    "        ax.barh(mackerel_counts_nonzero.index, mackerel_counts_nonzero[col])\n",
    "        ax.set_title(title, fontsize=20)\n",
    "        ax.xaxis.set_major_formatter(thou_fmt)\n",
    "    plt.suptitle('Mackerel count by {}'.format(unit_string), fontsize=30)\n",
    "    plt.savefig('2020-05-20_Mackerel-count_{}.png'.format(unit_string))\n",
    "\n",
    "plot_mackerel_counts(state_mackerel_counts, \"state\")"
   ]
  },
  {
   "cell_type": "code",
   "execution_count": 39,
   "metadata": {},
   "outputs": [
    {
     "data": {
      "text/html": [
       "<div>\n",
       "<style scoped>\n",
       "    .dataframe tbody tr th:only-of-type {\n",
       "        vertical-align: middle;\n",
       "    }\n",
       "\n",
       "    .dataframe tbody tr th {\n",
       "        vertical-align: top;\n",
       "    }\n",
       "\n",
       "    .dataframe thead th {\n",
       "        text-align: right;\n",
       "    }\n",
       "</style>\n",
       "<table border=\"1\" class=\"dataframe\">\n",
       "  <thead>\n",
       "    <tr style=\"text-align: right;\">\n",
       "      <th></th>\n",
       "      <th>word</th>\n",
       "      <th>max_len</th>\n",
       "    </tr>\n",
       "  </thead>\n",
       "  <tbody>\n",
       "    <tr>\n",
       "      <th>alabama</th>\n",
       "      <td>counterproductivenesses</td>\n",
       "      <td>23</td>\n",
       "    </tr>\n",
       "    <tr>\n",
       "      <th>mississippi</th>\n",
       "      <td>hydrochlorofluorocarbon</td>\n",
       "      <td>23</td>\n",
       "    </tr>\n",
       "  </tbody>\n",
       "</table>\n",
       "</div>"
      ],
      "text/plain": [
       "                                word max_len\n",
       "alabama      counterproductivenesses      23\n",
       "mississippi  hydrochlorofluorocarbon      23"
      ]
     },
     "execution_count": 39,
     "metadata": {},
     "output_type": "execute_result"
    }
   ],
   "source": [
    "def get_longest_mackerel(reference_dict):\n",
    "    max_lens = set([])\n",
    "    for unit in reference_dict.keys():\n",
    "        reference_dict[unit]['lens'] = [len(word) for word in reference_dict[unit]['words']]\n",
    "        unique_lens = set(reference_dict[unit]['lens'])\n",
    "        max_lens = max_lens.union(unique_lens)\n",
    "    max_len = max(max_lens)\n",
    "    longest_mackerels = pd.DataFrame(index=state_mackerels.keys(), columns=['word', 'max_len'])\n",
    "    for unit in reference_dict.keys():\n",
    "        for (word, length) in zip(reference_dict[unit]['words'], reference_dict[unit]['lens']):\n",
    "            if length == max_len:\n",
    "                longest_mackerels.loc[unit] = [word, length]\n",
    "    longest_mackerels.dropna(inplace=True)\n",
    "    return longest_mackerels\n",
    "\n",
    "get_longest_mackerel(state_mackerels)"
   ]
  },
  {
   "cell_type": "markdown",
   "metadata": {},
   "source": [
    "## 5. Do the same for English counties"
   ]
  },
  {
   "cell_type": "code",
   "execution_count": 93,
   "metadata": {},
   "outputs": [
    {
     "name": "stdout",
     "output_type": "stream",
     "text": [
      "List of 83 counties, e.g.\n",
      "northumberland\n",
      "tyne and wear\n",
      "durham\n",
      "cumbria\n",
      "lancashire\n"
     ]
    }
   ],
   "source": [
    "# From the Wikipedia list of metropolitan and non-metropolitan counties\n",
    "with open('UK_counties.txt', 'r') as fh:\n",
    "    county_list = [line.replace('\\n', '').lower() for line in fh]\n",
    "print(\"List of {} counties, e.g.\".format(len(county_list)))\n",
    "for i in county_list[:5]:\n",
    "    print(i)"
   ]
  },
  {
   "cell_type": "code",
   "execution_count": 94,
   "metadata": {},
   "outputs": [],
   "source": [
    "county_mackerels_all = {county: {'words': []} for county in county_list}\n",
    "for word in word_list:\n",
    "    _ = unmatching_states(word, states=county_list)\n",
    "    if len(_)==1:\n",
    "        matching_county = _[0]\n",
    "        county_mackerels_all[matching_county]['words'].append(word)"
   ]
  },
  {
   "cell_type": "code",
   "execution_count": 95,
   "metadata": {},
   "outputs": [
    {
     "name": "stdout",
     "output_type": "stream",
     "text": [
      "northumberland []\n",
      "tyne and wear ['bummocks', 'bucksom']\n",
      "durham ['inconvincibilities', 'inoffensivenesses', 'benevolentnesses', 'collectivenesses', 'convincingnesses']\n",
      "cumbria ['spondylosyndeses', 'possessednesses', 'pyknodysostoses', 'toothlessnesses', 'foodlessnesses']\n",
      "lancashire []\n",
      "blackpool ['disinterestednesses', 'unfrequentednesses', 'uninterestednesses', 'disinterestedness', 'interestingnesses']\n",
      "blackburn with darwen []\n",
      "west yorkshire []\n",
      "north yorkshire []\n",
      "darlington []\n",
      "stockton-on-tees []\n",
      "middlesbrough []\n",
      "hartlepool []\n",
      "redcar and cleveland ['symphysiotomy', 'homozygosity', 'physostomous', 'phytotomists', 'hypotyposis']\n",
      "york ['indistinguishablenesses', 'undistinguishablenesses', 'indistinguishabilities', 'inextinguishablenesses', 'indistinguishableness']\n",
      "east riding of yorkshire []\n",
      "kingston upon hull []\n",
      "north lincolnshire []\n",
      "north east lincolnshire []\n",
      "lincolnshire []\n",
      "nottinghamshire []\n",
      "nottingham ['pressureless', 'supersellers', 'suppressedly', 'beblubbered', 'beslubbered']\n",
      "south yorkshire []\n",
      "derbyshire []\n",
      "derby ['floccinaucinihilipilifications', 'constitutionalizations', 'constitutionalization', 'institutionalisations', 'institutionalizations']\n",
      "greater manchester []\n",
      "merseyside []\n",
      "halton ['circumscribers', 'supersecrecies', 'circumscribed', 'circumscriber', 'circumscribes']\n",
      "warrington ['speechlessly', 'blushlessly', 'seemlyheds', 'bemusedly', 'emphlyses']\n",
      "cheshire west and chester []\n",
      "cheshire east []\n",
      "shropshire []\n",
      "telford and wrekin []\n",
      "staffordshire []\n",
      "stoke-on-trent []\n",
      "west midlands []\n",
      "warwickshire []\n",
      "leicestershire []\n",
      "leicester ['foxhound']\n",
      "rutland ['sphygmoscopes', 'seismoscopes', 'seismoscopic', 'sphygmoscope', 'vichyssoises']\n",
      "northamptonshire []\n",
      "peterborough ['clindamycins', 'syndicalisms', 'syndicalism', 'kalamdans', 'kallidins']\n",
      "cambridgeshire []\n",
      "norfolk ['chiasmatypies', 'dysaesthesias', 'physitheistic', 'bathyscaphes', 'beautybushes']\n",
      "suffolk ['pectinibranchiate', 'perennibranchiate', 'hypercriticizing', 'interpenetrating', 'interpenetrative']\n",
      "essex ['hydrochlorofluorocarbon', 'honorificabilitudinity', 'otorhinolaryngological', 'clinicopathologically', 'photolithographically']\n",
      "southend-on-sea []\n",
      "thurrock ['yieldablenesses', 'disbelievingly', 'dismayednesses', 'disyllabifying', 'feeblemindedly']\n",
      "hertfordshire []\n",
      "bedford ['chauvinistically', 'antisyphilitics', 'scintillatingly', 'antisyphilitic', 'humanistically']\n",
      "central bedfordshire []\n",
      "luton ['disaccharidases', 'hyperaggressive', 'ambassadresses', 'brachygraphies', 'checkerberries']\n",
      "milton keynes []\n",
      "buckinghamshire []\n",
      "oxfordshire []\n",
      "gloucestershire []\n",
      "worcestershire []\n",
      "herefordshire []\n",
      "south gloucestershire []\n",
      "bristol ['fuzzyheaded', 'unhackneyed', 'hackneyman', 'hackneymen', 'keypunched']\n",
      "north somerset []\n",
      "bath and north east somerset []\n",
      "wiltshire []\n",
      "swindon ['preterpluperfect', 'extracellularly', 'baccalaureate', 'brachycephaly', 'extracellular']\n",
      "berkshire ['cytotaxonomy', 'myxomata', 'polyaxon', 'taxonomy', 'xylomata']\n",
      "medway ['poluphloisboiotic', 'chronobiologists', 'conscriptionists', 'constructionists', 'nonconstructions']\n",
      "kent ['psychopharmacological', 'psychophysiologically', 'parapsychologically', 'psychopharmacologic', 'psychophysiological']\n",
      "east sussex []\n",
      "brighton and hove []\n",
      "west sussex []\n",
      "surrey ['blaxploitation', 'photooxidation', 'photooxidizing', 'nonoxidizing', 'toxicophobia']\n",
      "hampshire []\n",
      "southampton ['bewilderedly', 'brickfielder', 'bedrivelled', 'diglyceride', 'irreflexive']\n",
      "portsmouth ['candlewicking', 'evangelically', 'beneficially', 'blacklegging', 'deacidifying']\n",
      "isle of wight []\n",
      "dorset []\n",
      "poole ['antitrinitarianisms', 'antitrinitarianism', 'transubstantiating', 'antichristianisms', 'antihumanitarians']\n",
      "bournemouth ['pickadills', 'pickadils', 'klipdas']\n",
      "somerset []\n",
      "devon ['spiritualistically', 'crystallizability', 'multiculturalisms', 'stratigraphically', 'ultrastructurally']\n",
      "torbay ['unskillfulnesses', 'childlikenesses', 'unskilfulnesses', 'lucklessnesses', 'skillfulnesses']\n",
      "plymouth ['aggressivenesses', 'adversarinesses', 'aggrievednesses', 'barefacednesses', 'brainsicknesses']\n",
      "cornwall ['fussbudgety', 'diskettes', 'kibbitzed', 'skeighest', 'skiddiest']\n"
     ]
    }
   ],
   "source": [
    "for county in county_mackerels_all.keys():\n",
    "    print(county, county_mackerels_all[county]['words'][:5])"
   ]
  },
  {
   "cell_type": "code",
   "execution_count": 99,
   "metadata": {},
   "outputs": [
    {
     "data": {
      "text/plain": [
       "{3,\n",
       " 4,\n",
       " 5,\n",
       " 6,\n",
       " 7,\n",
       " 8,\n",
       " 9,\n",
       " 10,\n",
       " 11,\n",
       " 12,\n",
       " 13,\n",
       " 14,\n",
       " 15,\n",
       " 16,\n",
       " 17,\n",
       " 18,\n",
       " 19,\n",
       " 20,\n",
       " 21,\n",
       " 22,\n",
       " 23,\n",
       " 30}"
      ]
     },
     "execution_count": 99,
     "metadata": {},
     "output_type": "execute_result"
    }
   ],
   "source": [
    "max_county_lens = set([])\n",
    "for county in county_mackerels_all.keys():\n",
    "    county_mackerels_all[county]['lens'] = [len(word) for word in county_mackerels_all[county]['words']]\n",
    "    unique_lens = set(county_mackerels_all[county]['lens'])\n",
    "    max_county_lens = max_county_lens.union(unique_lens)\n",
    "max_county_lens"
   ]
  },
  {
   "cell_type": "code",
   "execution_count": 100,
   "metadata": {},
   "outputs": [
    {
     "name": "stdout",
     "output_type": "stream",
     "text": [
      "derby floccinaucinihilipilifications 30\n"
     ]
    }
   ],
   "source": [
    "max_county_len = max(max_county_lens)\n",
    "for county in county_mackerels_all.keys():\n",
    "    for (word, length) in zip(county_mackerels_all[county]['words'], county_mackerels_all[county]['lens']):\n",
    "        if length == max_county_len:\n",
    "            print(county, word, length)"
   ]
  },
  {
   "cell_type": "code",
   "execution_count": 104,
   "metadata": {},
   "outputs": [
    {
     "name": "stdout",
     "output_type": "stream",
     "text": [
      "                              count\n",
      "northumberland                    0\n",
      "tyne and wear                     2\n",
      "durham                         4101\n",
      "cumbria                        1560\n",
      "lancashire                        0\n",
      "blackpool                      3860\n",
      "blackburn with darwen             0\n",
      "west yorkshire                    0\n",
      "north yorkshire                   0\n",
      "darlington                        0\n",
      "stockton-on-tees                  0\n",
      "middlesbrough                     0\n",
      "hartlepool                        0\n",
      "redcar and cleveland             64\n",
      "york                          14678\n",
      "east riding of yorkshire          0\n",
      "kingston upon hull                0\n",
      "north lincolnshire                0\n",
      "north east lincolnshire           0\n",
      "lincolnshire                      0\n",
      "nottinghamshire                   0\n",
      "nottingham                      429\n",
      "south yorkshire                   0\n",
      "derbyshire                        0\n",
      "derby                          4186\n",
      "greater manchester                0\n",
      "merseyside                        0\n",
      "halton                          582\n",
      "warrington                       23\n",
      "cheshire west and chester         0\n",
      "...                             ...\n",
      "buckinghamshire                   0\n",
      "oxfordshire                       0\n",
      "gloucestershire                   0\n",
      "worcestershire                    0\n",
      "herefordshire                     0\n",
      "south gloucestershire             0\n",
      "bristol                          53\n",
      "north somerset                    0\n",
      "bath and north east somerset      0\n",
      "wiltshire                         0\n",
      "swindon                        1873\n",
      "berkshire                         6\n",
      "medway                         1918\n",
      "kent                           3843\n",
      "east sussex                       0\n",
      "brighton and hove                 0\n",
      "west sussex                       0\n",
      "surrey                           23\n",
      "hampshire                         0\n",
      "southampton                     324\n",
      "portsmouth                      172\n",
      "isle of wight                     0\n",
      "dorset                            0\n",
      "poole                          1458\n",
      "bournemouth                       3\n",
      "somerset                          0\n",
      "devon                           895\n",
      "torbay                          386\n",
      "plymouth                       1565\n",
      "cornwall                         40\n",
      "\n",
      "[83 rows x 1 columns]\n"
     ]
    }
   ],
   "source": [
    "mackerel_counts_county = pd.DataFrame(index=county_list, columns=['count'])\n",
    "for county in county_list:\n",
    "    county_mackerels_all[county]['len'] = len(county_mackerels_all[county]['words'])\n",
    "    mackerel_counts_county.loc[county, 'count'] = county_mackerels_all[county]['len']\n",
    "print(mackerel_counts_county)"
   ]
  },
  {
   "cell_type": "code",
   "execution_count": 107,
   "metadata": {},
   "outputs": [
    {
     "data": {
      "image/png": "[encoded data removed]",
      "text/plain": [
       "<Figure size 432x1080 with 1 Axes>"
      ]
     },
     "metadata": {
      "needs_background": "light"
     },
     "output_type": "display_data"
    }
   ],
   "source": [
    "mackerel_counts_county.sort_values(by='count', inplace=True)\n",
    "mackerel_counts_county_nonzero = mackerel_counts_county[mackerel_counts_county['count'] > 0]\n",
    "fig, ax = plt.subplots(1, 1, figsize=(6, 15))\n",
    "mackerel_counts_county_nonzero.plot.barh(fontsize=12, ax=ax)\n",
    "ax.set_title('Mackerel count by county', fontsize=20)\n",
    "ax.legend().set_visible(False)\n",
    "ax.xaxis.set_major_formatter(thou_fmt)"
   ]
  },
  {
   "cell_type": "code",
   "execution_count": null,
   "metadata": {},
   "outputs": [],
   "source": []
  }
 ],
 "metadata": {
  "kernelspec": {
   "display_name": "Python 3",
   "language": "python",
   "name": "python3"
  },
  "language_info": {
   "codemirror_mode": {
    "name": "ipython",
    "version": 3
   },
   "file_extension": ".py",
   "mimetype": "text/x-python",
   "name": "python",
   "nbconvert_exporter": "python",
   "pygments_lexer": "ipython3",
   "version": "3.7.1"
  }
 },
 "nbformat": 4,
 "nbformat_minor": 2
}
